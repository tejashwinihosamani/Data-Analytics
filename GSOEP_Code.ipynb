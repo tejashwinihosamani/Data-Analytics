{
 "cells": [
  {
   "cell_type": "code",
   "execution_count": 1,
   "metadata": {},
   "outputs": [],
   "source": [
    "#importing necessary libraries\n",
    "from sklearn import datasets\n",
    "from sklearn.metrics import confusion_matrix\n",
    "from sklearn.model_selection import train_test_split\n",
    "import pandas as pd\n",
    "import numpy as np\n",
    "\n",
    "from sklearn.preprocessing import MinMaxScaler, LabelEncoder\n",
    "\n",
    "from sklearn.model_selection import train_test_split, GridSearchCV\n",
    "\n",
    "from sklearn.metrics import plot_confusion_matrix, confusion_matrix, accuracy_score\n",
    "\n",
    "from sklearn.metrics import precision_score, precision_recall_curve, plot_precision_recall_curve, plot_roc_curve, roc_auc_score, roc_curve, f1_score, accuracy_score, recall_score\n",
    "\n",
    "from sklearn.pipeline import Pipeline\n",
    "\n",
    "from sklearn.linear_model import LogisticRegression\n",
    "\n",
    "from sklearn.tree import DecisionTreeClassifier\n"
   ]
  },
  {
   "cell_type": "code",
   "execution_count": 2,
   "metadata": {},
   "outputs": [
    {
     "data": {
      "text/html": [
       "<div>\n",
       "<style scoped>\n",
       "    .dataframe tbody tr th:only-of-type {\n",
       "        vertical-align: middle;\n",
       "    }\n",
       "\n",
       "    .dataframe tbody tr th {\n",
       "        vertical-align: top;\n",
       "    }\n",
       "\n",
       "    .dataframe thead th {\n",
       "        text-align: right;\n",
       "    }\n",
       "</style>\n",
       "<table border=\"1\" class=\"dataframe\">\n",
       "  <thead>\n",
       "    <tr style=\"text-align: right;\">\n",
       "      <th></th>\n",
       "      <th>Unnamed: 0</th>\n",
       "      <th>school</th>\n",
       "      <th>birthyear</th>\n",
       "      <th>gender</th>\n",
       "      <th>kids</th>\n",
       "      <th>parity</th>\n",
       "      <th>income</th>\n",
       "      <th>size</th>\n",
       "      <th>state</th>\n",
       "      <th>marital</th>\n",
       "      <th>meducation</th>\n",
       "      <th>memployment</th>\n",
       "      <th>year</th>\n",
       "    </tr>\n",
       "  </thead>\n",
       "  <tbody>\n",
       "    <tr>\n",
       "      <th>0</th>\n",
       "      <td>1</td>\n",
       "      <td>Gymnasium</td>\n",
       "      <td>1981</td>\n",
       "      <td>female</td>\n",
       "      <td>2</td>\n",
       "      <td>2</td>\n",
       "      <td>35160.113491</td>\n",
       "      <td>4</td>\n",
       "      <td>Berlin</td>\n",
       "      <td>married</td>\n",
       "      <td>14.5</td>\n",
       "      <td>none</td>\n",
       "      <td>1995</td>\n",
       "    </tr>\n",
       "    <tr>\n",
       "      <th>1</th>\n",
       "      <td>2</td>\n",
       "      <td>Gymnasium</td>\n",
       "      <td>1981</td>\n",
       "      <td>female</td>\n",
       "      <td>2</td>\n",
       "      <td>2</td>\n",
       "      <td>65748.345269</td>\n",
       "      <td>3</td>\n",
       "      <td>Berlin</td>\n",
       "      <td>married</td>\n",
       "      <td>10.5</td>\n",
       "      <td>parttime</td>\n",
       "      <td>1995</td>\n",
       "    </tr>\n",
       "    <tr>\n",
       "      <th>2</th>\n",
       "      <td>3</td>\n",
       "      <td>Gymnasium</td>\n",
       "      <td>1980</td>\n",
       "      <td>female</td>\n",
       "      <td>3</td>\n",
       "      <td>3</td>\n",
       "      <td>120962.356461</td>\n",
       "      <td>3</td>\n",
       "      <td>Berlin</td>\n",
       "      <td>married</td>\n",
       "      <td>12.0</td>\n",
       "      <td>parttime</td>\n",
       "      <td>1994</td>\n",
       "    </tr>\n",
       "    <tr>\n",
       "      <th>3</th>\n",
       "      <td>4</td>\n",
       "      <td>Gymnasium</td>\n",
       "      <td>1984</td>\n",
       "      <td>female</td>\n",
       "      <td>1</td>\n",
       "      <td>1</td>\n",
       "      <td>60100.572300</td>\n",
       "      <td>3</td>\n",
       "      <td>Berlin</td>\n",
       "      <td>married</td>\n",
       "      <td>10.5</td>\n",
       "      <td>parttime</td>\n",
       "      <td>1998</td>\n",
       "    </tr>\n",
       "    <tr>\n",
       "      <th>4</th>\n",
       "      <td>5</td>\n",
       "      <td>Realschule</td>\n",
       "      <td>1982</td>\n",
       "      <td>male</td>\n",
       "      <td>4</td>\n",
       "      <td>4</td>\n",
       "      <td>34828.951843</td>\n",
       "      <td>4</td>\n",
       "      <td>Berlin</td>\n",
       "      <td>divorced</td>\n",
       "      <td>10.0</td>\n",
       "      <td>fulltime</td>\n",
       "      <td>1996</td>\n",
       "    </tr>\n",
       "    <tr>\n",
       "      <th>...</th>\n",
       "      <td>...</td>\n",
       "      <td>...</td>\n",
       "      <td>...</td>\n",
       "      <td>...</td>\n",
       "      <td>...</td>\n",
       "      <td>...</td>\n",
       "      <td>...</td>\n",
       "      <td>...</td>\n",
       "      <td>...</td>\n",
       "      <td>...</td>\n",
       "      <td>...</td>\n",
       "      <td>...</td>\n",
       "      <td>...</td>\n",
       "    </tr>\n",
       "    <tr>\n",
       "      <th>670</th>\n",
       "      <td>671</td>\n",
       "      <td>Realschule</td>\n",
       "      <td>1986</td>\n",
       "      <td>female</td>\n",
       "      <td>3</td>\n",
       "      <td>1</td>\n",
       "      <td>163592.930460</td>\n",
       "      <td>5</td>\n",
       "      <td>Schleswig-Holstein</td>\n",
       "      <td>married</td>\n",
       "      <td>12.0</td>\n",
       "      <td>parttime</td>\n",
       "      <td>2000</td>\n",
       "    </tr>\n",
       "    <tr>\n",
       "      <th>671</th>\n",
       "      <td>672</td>\n",
       "      <td>Hauptschule</td>\n",
       "      <td>1987</td>\n",
       "      <td>female</td>\n",
       "      <td>2</td>\n",
       "      <td>2</td>\n",
       "      <td>13790.686771</td>\n",
       "      <td>2</td>\n",
       "      <td>Rheinland-Pfalz/Saarland</td>\n",
       "      <td>divorced</td>\n",
       "      <td>15.0</td>\n",
       "      <td>parttime</td>\n",
       "      <td>2001</td>\n",
       "    </tr>\n",
       "    <tr>\n",
       "      <th>672</th>\n",
       "      <td>673</td>\n",
       "      <td>Hauptschule</td>\n",
       "      <td>1984</td>\n",
       "      <td>male</td>\n",
       "      <td>5</td>\n",
       "      <td>1</td>\n",
       "      <td>63503.014678</td>\n",
       "      <td>6</td>\n",
       "      <td>Niedersachsen</td>\n",
       "      <td>married</td>\n",
       "      <td>12.0</td>\n",
       "      <td>none</td>\n",
       "      <td>1998</td>\n",
       "    </tr>\n",
       "    <tr>\n",
       "      <th>673</th>\n",
       "      <td>674</td>\n",
       "      <td>Gymnasium</td>\n",
       "      <td>1987</td>\n",
       "      <td>male</td>\n",
       "      <td>1</td>\n",
       "      <td>1</td>\n",
       "      <td>47978.267069</td>\n",
       "      <td>3</td>\n",
       "      <td>Niedersachsen</td>\n",
       "      <td>married</td>\n",
       "      <td>11.5</td>\n",
       "      <td>none</td>\n",
       "      <td>2001</td>\n",
       "    </tr>\n",
       "    <tr>\n",
       "      <th>674</th>\n",
       "      <td>675</td>\n",
       "      <td>Realschule</td>\n",
       "      <td>1987</td>\n",
       "      <td>female</td>\n",
       "      <td>2</td>\n",
       "      <td>1</td>\n",
       "      <td>31854.248668</td>\n",
       "      <td>3</td>\n",
       "      <td>Baden Wuerttemberg</td>\n",
       "      <td>divorced</td>\n",
       "      <td>11.5</td>\n",
       "      <td>parttime</td>\n",
       "      <td>2001</td>\n",
       "    </tr>\n",
       "  </tbody>\n",
       "</table>\n",
       "<p>675 rows × 13 columns</p>\n",
       "</div>"
      ],
      "text/plain": [
       "     Unnamed: 0       school  birthyear  gender  kids  parity         income  \\\n",
       "0             1    Gymnasium       1981  female     2       2   35160.113491   \n",
       "1             2    Gymnasium       1981  female     2       2   65748.345269   \n",
       "2             3    Gymnasium       1980  female     3       3  120962.356461   \n",
       "3             4    Gymnasium       1984  female     1       1   60100.572300   \n",
       "4             5   Realschule       1982    male     4       4   34828.951843   \n",
       "..          ...          ...        ...     ...   ...     ...            ...   \n",
       "670         671   Realschule       1986  female     3       1  163592.930460   \n",
       "671         672  Hauptschule       1987  female     2       2   13790.686771   \n",
       "672         673  Hauptschule       1984    male     5       1   63503.014678   \n",
       "673         674    Gymnasium       1987    male     1       1   47978.267069   \n",
       "674         675   Realschule       1987  female     2       1   31854.248668   \n",
       "\n",
       "     size                     state   marital  meducation memployment  year  \n",
       "0       4                    Berlin   married        14.5        none  1995  \n",
       "1       3                    Berlin   married        10.5    parttime  1995  \n",
       "2       3                    Berlin   married        12.0    parttime  1994  \n",
       "3       3                    Berlin   married        10.5    parttime  1998  \n",
       "4       4                    Berlin  divorced        10.0    fulltime  1996  \n",
       "..    ...                       ...       ...         ...         ...   ...  \n",
       "670     5        Schleswig-Holstein   married        12.0    parttime  2000  \n",
       "671     2  Rheinland-Pfalz/Saarland  divorced        15.0    parttime  2001  \n",
       "672     6             Niedersachsen   married        12.0        none  1998  \n",
       "673     3             Niedersachsen   married        11.5        none  2001  \n",
       "674     3        Baden Wuerttemberg  divorced        11.5    parttime  2001  \n",
       "\n",
       "[675 rows x 13 columns]"
      ]
     },
     "execution_count": 2,
     "metadata": {},
     "output_type": "execute_result"
    }
   ],
   "source": [
    " \n",
    "df = pd.read_excel(\"GSOEP_data-set.xlsx\")\n",
    "df\n",
    " \n"
   ]
  },
  {
   "cell_type": "code",
   "execution_count": 3,
   "metadata": {},
   "outputs": [
    {
     "name": "stdout",
     "output_type": "stream",
     "text": [
      "Categorical variables in the dataset: ['school', 'gender', 'state', 'marital', 'memployment']\n"
     ]
    }
   ],
   "source": [
    "#Get list of categorical variables\n",
    "s = (df.dtypes == 'object')\n",
    "object_cols = list(s[s].index)\n",
    "\n",
    "print(\"Categorical variables in the dataset:\", object_cols)"
   ]
  },
  {
   "cell_type": "code",
   "execution_count": 4,
   "metadata": {},
   "outputs": [
    {
     "name": "stdout",
     "output_type": "stream",
     "text": [
      "All features are now numerical\n"
     ]
    }
   ],
   "source": [
    "#Label Encoding the object dtypes.\n",
    "LE=LabelEncoder()\n",
    "for i in object_cols:\n",
    "    df[i]=df[[i]].apply(LE.fit_transform)\n",
    "    \n",
    "print(\"All features are now numerical\")"
   ]
  },
  {
   "cell_type": "code",
   "execution_count": 5,
   "metadata": {},
   "outputs": [],
   "source": [
    "# X -> features, y -> label\n",
    "X = df.drop([\"school\"], axis=1)\n",
    "y = df[\"school\"]"
   ]
  },
  {
   "cell_type": "markdown",
   "metadata": {},
   "source": [
    "# Decision Tree"
   ]
  },
  {
   "cell_type": "code",
   "execution_count": 6,
   "metadata": {},
   "outputs": [
    {
     "data": {
      "text/plain": [
       "array([1, 2, 0, 0, 0, 0, 2, 0, 2, 0, 1, 0, 0, 1, 2, 0, 2, 0, 0, 1, 2, 2,\n",
       "       1, 2, 0, 1, 2, 0, 2, 2, 0, 0, 0, 0, 2, 0, 0, 1, 2, 1, 2, 0, 0, 0,\n",
       "       1, 0, 0, 2, 2, 2, 1, 0, 0, 2, 2, 2, 2, 0, 0, 0, 2, 2, 1, 2, 0, 0,\n",
       "       2, 0])"
      ]
     },
     "execution_count": 6,
     "metadata": {},
     "output_type": "execute_result"
    }
   ],
   "source": [
    "# dividing X, y into train and test data\n",
    "X_train, X_test, y_train, y_test = train_test_split(X, y,test_size=0.1,random_state = 0)\n",
    " \n",
    "# training a DescisionTreeClassifier\n",
    "from sklearn.tree import DecisionTreeClassifier\n",
    "dtree_model = DecisionTreeClassifier(max_depth = 2).fit(X_train, y_train)\n",
    "dtree_predictions = dtree_model.predict(X_test)\n",
    "dtree_predictions\n",
    "\n"
   ]
  },
  {
   "cell_type": "code",
   "execution_count": 7,
   "metadata": {},
   "outputs": [
    {
     "data": {
      "text/plain": [
       "array([[17,  2,  3],\n",
       "       [ 7,  6,  9],\n",
       "       [ 8,  3, 13]], dtype=int64)"
      ]
     },
     "execution_count": 7,
     "metadata": {},
     "output_type": "execute_result"
    }
   ],
   "source": [
    "# creating a confusion matrix\n",
    "cm = confusion_matrix(y_test, dtree_predictions)\n",
    "cm"
   ]
  },
  {
   "cell_type": "code",
   "execution_count": 8,
   "metadata": {},
   "outputs": [
    {
     "data": {
      "text/plain": [
       "0.5294117647058824"
      ]
     },
     "execution_count": 8,
     "metadata": {},
     "output_type": "execute_result"
    }
   ],
   "source": [
    "accuracy_score(y_test, dtree_predictions)"
   ]
  },
  {
   "cell_type": "markdown",
   "metadata": {},
   "source": [
    "# SVM"
   ]
  },
  {
   "cell_type": "code",
   "execution_count": 21,
   "metadata": {},
   "outputs": [
    {
     "data": {
      "text/plain": [
       "array([1, 1, 0, 0, 0, 0, 0, 0, 0, 2, 0, 0, 2, 1, 1, 0, 0, 1, 0, 0, 2, 0,\n",
       "       1, 1, 0, 1, 1, 2, 1, 1, 0, 0, 2, 0, 0, 0, 0, 1, 1, 0, 1, 0, 0, 2,\n",
       "       1, 0, 0, 1, 2, 0, 0, 0, 0, 2, 0, 2, 1, 2, 2, 0, 2, 0, 1, 1, 0, 0,\n",
       "       0, 2, 0, 0, 1, 0, 0, 0, 0, 1, 0, 0, 0, 0, 1, 1, 2, 0, 1, 0, 2, 1,\n",
       "       2, 0, 0, 1, 0, 0, 1, 1, 0, 1, 0, 1, 2, 0, 2, 1, 1, 0, 0, 1, 2, 0,\n",
       "       1, 2, 0, 0, 2, 0, 0, 2, 0, 0, 2, 0, 1, 0, 0, 1, 1, 0, 0, 0, 0, 0,\n",
       "       2, 0, 1, 2, 0, 2, 0, 0, 2, 0, 1, 0, 0, 0, 0, 0, 2, 0, 0, 0, 0, 2,\n",
       "       0, 2, 0, 0, 0, 0, 0, 0, 0, 2, 2, 0, 1, 0, 1, 1, 0, 0, 0, 0, 0, 2,\n",
       "       2, 2, 0, 1, 1, 1, 1, 1, 0, 0, 0, 0, 2, 0, 2, 0, 0, 1, 0, 0, 0, 1,\n",
       "       0, 2, 0, 0, 0])"
      ]
     },
     "execution_count": 21,
     "metadata": {},
     "output_type": "execute_result"
    }
   ],
   "source": [
    "# dividing X, y into train and test data\n",
    "X_train, X_test, y_train, y_test = train_test_split(X, y,test_size=0.3,random_state = 0)\n",
    "\n",
    "from sklearn.svm import SVC\n",
    "svm_model_linear = SVC(kernel = 'linear', C = 1).fit(X_train, y_train)\n",
    "svm_predictions = svm_model_linear.predict(X_test)\n",
    " \n",
    "# model accuracy for X_test \n",
    "accuracy = svm_model_linear.score(X_test, y_test)\n",
    " \n",
    "# creating a confusion matrix\n",
    "cm = confusion_matrix(y_test, svm_predictions)\n",
    "svm_predictions"
   ]
  },
  {
   "cell_type": "code",
   "execution_count": 22,
   "metadata": {},
   "outputs": [
    {
     "data": {
      "text/plain": [
       "array([[65,  9, 12],\n",
       "       [23, 23, 11],\n",
       "       [28, 17, 15]], dtype=int64)"
      ]
     },
     "execution_count": 22,
     "metadata": {},
     "output_type": "execute_result"
    }
   ],
   "source": [
    "# creating a confusion matrix\n",
    "cm = confusion_matrix(y_test, svm_predictions)\n",
    "cm"
   ]
  },
  {
   "cell_type": "code",
   "execution_count": 23,
   "metadata": {},
   "outputs": [
    {
     "data": {
      "text/plain": [
       "0.5073891625615764"
      ]
     },
     "execution_count": 23,
     "metadata": {},
     "output_type": "execute_result"
    }
   ],
   "source": [
    "accuracy_score(y_test, svm_predictions)"
   ]
  }
 ],
 "metadata": {
  "kernelspec": {
   "display_name": "Python 3",
   "language": "python",
   "name": "python3"
  },
  "language_info": {
   "codemirror_mode": {
    "name": "ipython",
    "version": 3
   },
   "file_extension": ".py",
   "mimetype": "text/x-python",
   "name": "python",
   "nbconvert_exporter": "python",
   "pygments_lexer": "ipython3",
   "version": "3.7.4"
  }
 },
 "nbformat": 4,
 "nbformat_minor": 5
}
